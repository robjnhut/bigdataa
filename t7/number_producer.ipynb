{
 "cells": [
  {
   "cell_type": "code",
   "execution_count": 2,
   "id": "99e5cbde",
   "metadata": {},
   "outputs": [],
   "source": [
    "from time import sleep\n",
    "from json import dumps\n",
    "from kafka import KafkaProducer\n",
    "\n",
    "topic_name = 'numtest'\n",
    "kafka_server = 'localhost:9092'\n",
    "\n",
    "producer = KafkaProducer(bootstrap_servers=kafka_server, value_serializer=lambda x: dumps(x).encode('utf-8'))\n",
    "\n",
    "for e in range(1000):\n",
    "    data = {'number': e}\n",
    "    producer.send(topic_name, value=data)\n",
    "    sleep(5)"
   ]
  }
 ],
 "metadata": {
  "kernelspec": {
   "display_name": "Python 3",
   "language": "python",
   "name": "python3"
  },
  "language_info": {
   "codemirror_mode": {
    "name": "ipython",
    "version": 3
   },
   "file_extension": ".py",
   "mimetype": "text/x-python",
   "name": "python",
   "nbconvert_exporter": "python",
   "pygments_lexer": "ipython3",
   "version": "3.12.4"
  }
 },
 "nbformat": 4,
 "nbformat_minor": 5
}
